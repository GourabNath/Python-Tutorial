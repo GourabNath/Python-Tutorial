{
 "cells": [
  {
   "cell_type": "markdown",
   "metadata": {
    "collapsed": true
   },
   "source": [
    "### A. List is a sequence of values"
   ]
  },
  {
   "cell_type": "markdown",
   "metadata": {},
   "source": [
    "Like a string, a list is a sequence of values. In a string, the values are characters; in a list, they can be any type. The values in list are called elements or sometimes items."
   ]
  },
  {
   "cell_type": "markdown",
   "metadata": {},
   "source": [
    "### B. List Examples"
   ]
  },
  {
   "cell_type": "code",
   "execution_count": null,
   "metadata": {
    "collapsed": false
   },
   "outputs": [],
   "source": [
    "[1,3,5,7,9]"
   ]
  },
  {
   "cell_type": "code",
   "execution_count": null,
   "metadata": {
    "collapsed": false
   },
   "outputs": [],
   "source": [
    "['apple', 'ball', 'cat', 'doll']"
   ]
  },
  {
   "cell_type": "code",
   "execution_count": null,
   "metadata": {
    "collapsed": false
   },
   "outputs": [],
   "source": [
    "[1, 'one']"
   ]
  },
  {
   "cell_type": "markdown",
   "metadata": {},
   "source": [
    "### C. Lists are Mutable "
   ]
  },
  {
   "cell_type": "code",
   "execution_count": null,
   "metadata": {
    "collapsed": false
   },
   "outputs": [],
   "source": [
    "words = ['apple', 'ball', 'cat', 'doll']\n",
    "words[1]"
   ]
  },
  {
   "cell_type": "code",
   "execution_count": null,
   "metadata": {
    "collapsed": false
   },
   "outputs": [],
   "source": [
    "words[1]= 'balloon'\n",
    "words"
   ]
  },
  {
   "cell_type": "markdown",
   "metadata": {},
   "source": [
    "### D. List Operations"
   ]
  },
  {
   "cell_type": "code",
   "execution_count": null,
   "metadata": {
    "collapsed": false
   },
   "outputs": [],
   "source": [
    "a = [1,2,3]\n",
    "b = [4,5,6]\n",
    "\n",
    "a + b"
   ]
  },
  {
   "cell_type": "code",
   "execution_count": null,
   "metadata": {
    "collapsed": false
   },
   "outputs": [],
   "source": [
    "a*4"
   ]
  },
  {
   "cell_type": "code",
   "execution_count": null,
   "metadata": {
    "collapsed": false
   },
   "outputs": [],
   "source": [
    "[1]*4"
   ]
  },
  {
   "cell_type": "markdown",
   "metadata": {},
   "source": [
    "### E. Slicing List"
   ]
  },
  {
   "cell_type": "code",
   "execution_count": null,
   "metadata": {
    "collapsed": false
   },
   "outputs": [],
   "source": [
    "words = ['apple', 'ball', 'cat', 'dog', 'elephant', 'fish', 'giraffe']\n"
   ]
  },
  {
   "cell_type": "code",
   "execution_count": null,
   "metadata": {
    "collapsed": false
   },
   "outputs": [],
   "source": []
  },
  {
   "cell_type": "code",
   "execution_count": null,
   "metadata": {
    "collapsed": false
   },
   "outputs": [],
   "source": []
  },
  {
   "cell_type": "code",
   "execution_count": null,
   "metadata": {
    "collapsed": false
   },
   "outputs": [],
   "source": []
  },
  {
   "cell_type": "code",
   "execution_count": null,
   "metadata": {
    "collapsed": false
   },
   "outputs": [],
   "source": []
  },
  {
   "cell_type": "code",
   "execution_count": null,
   "metadata": {
    "collapsed": false
   },
   "outputs": [],
   "source": []
  },
  {
   "cell_type": "code",
   "execution_count": null,
   "metadata": {
    "collapsed": false
   },
   "outputs": [],
   "source": []
  },
  {
   "cell_type": "code",
   "execution_count": null,
   "metadata": {
    "collapsed": false
   },
   "outputs": [],
   "source": []
  },
  {
   "cell_type": "code",
   "execution_count": null,
   "metadata": {
    "collapsed": false
   },
   "outputs": [],
   "source": []
  },
  {
   "cell_type": "markdown",
   "metadata": {},
   "source": [
    "### F. List and Function"
   ]
  },
  {
   "cell_type": "code",
   "execution_count": null,
   "metadata": {
    "collapsed": false
   },
   "outputs": [],
   "source": [
    "len(words)"
   ]
  },
  {
   "cell_type": "code",
   "execution_count": null,
   "metadata": {
    "collapsed": false
   },
   "outputs": [],
   "source": [
    "max(words)"
   ]
  },
  {
   "cell_type": "code",
   "execution_count": null,
   "metadata": {
    "collapsed": false
   },
   "outputs": [],
   "source": [
    "min(words)"
   ]
  },
  {
   "cell_type": "code",
   "execution_count": null,
   "metadata": {
    "collapsed": true
   },
   "outputs": [],
   "source": [
    "x = [1, 2, 3]"
   ]
  },
  {
   "cell_type": "code",
   "execution_count": null,
   "metadata": {
    "collapsed": false
   },
   "outputs": [],
   "source": [
    "sum(x)"
   ]
  },
  {
   "cell_type": "code",
   "execution_count": null,
   "metadata": {
    "collapsed": false
   },
   "outputs": [],
   "source": [
    "sum(x)/len(x)"
   ]
  },
  {
   "cell_type": "code",
   "execution_count": null,
   "metadata": {
    "collapsed": false
   },
   "outputs": [],
   "source": [
    "max(x)"
   ]
  },
  {
   "cell_type": "markdown",
   "metadata": {},
   "source": [
    "### G. List Methods"
   ]
  },
  {
   "cell_type": "code",
   "execution_count": null,
   "metadata": {
    "collapsed": false
   },
   "outputs": [],
   "source": [
    "dir(words)"
   ]
  },
  {
   "cell_type": "code",
   "execution_count": null,
   "metadata": {
    "collapsed": false
   },
   "outputs": [],
   "source": [
    "words[1:4:2]"
   ]
  },
  {
   "cell_type": "code",
   "execution_count": null,
   "metadata": {
    "collapsed": true
   },
   "outputs": [],
   "source": []
  },
  {
   "cell_type": "code",
   "execution_count": null,
   "metadata": {
    "collapsed": false
   },
   "outputs": [],
   "source": []
  },
  {
   "cell_type": "code",
   "execution_count": null,
   "metadata": {
    "collapsed": false
   },
   "outputs": [],
   "source": []
  },
  {
   "cell_type": "code",
   "execution_count": null,
   "metadata": {
    "collapsed": false
   },
   "outputs": [],
   "source": []
  },
  {
   "cell_type": "code",
   "execution_count": null,
   "metadata": {
    "collapsed": false
   },
   "outputs": [],
   "source": []
  },
  {
   "cell_type": "code",
   "execution_count": null,
   "metadata": {
    "collapsed": false
   },
   "outputs": [],
   "source": []
  },
  {
   "cell_type": "code",
   "execution_count": null,
   "metadata": {
    "collapsed": false
   },
   "outputs": [],
   "source": []
  },
  {
   "cell_type": "code",
   "execution_count": null,
   "metadata": {
    "collapsed": false
   },
   "outputs": [],
   "source": []
  },
  {
   "cell_type": "markdown",
   "metadata": {},
   "source": [
    "### H. List and Strings"
   ]
  },
  {
   "cell_type": "code",
   "execution_count": null,
   "metadata": {
    "collapsed": false
   },
   "outputs": [],
   "source": [
    "s = 'string'\n",
    "t = list(s)   #Converting a string to a list\n",
    "print(t)"
   ]
  },
  {
   "cell_type": "code",
   "execution_count": null,
   "metadata": {
    "collapsed": false
   },
   "outputs": [],
   "source": []
  },
  {
   "cell_type": "code",
   "execution_count": null,
   "metadata": {
    "collapsed": false
   },
   "outputs": [],
   "source": []
  },
  {
   "cell_type": "code",
   "execution_count": null,
   "metadata": {
    "collapsed": false
   },
   "outputs": [],
   "source": []
  },
  {
   "cell_type": "code",
   "execution_count": null,
   "metadata": {
    "collapsed": false
   },
   "outputs": [],
   "source": []
  },
  {
   "cell_type": "code",
   "execution_count": null,
   "metadata": {
    "collapsed": false
   },
   "outputs": [],
   "source": []
  },
  {
   "cell_type": "code",
   "execution_count": null,
   "metadata": {
    "collapsed": false
   },
   "outputs": [],
   "source": []
  },
  {
   "cell_type": "code",
   "execution_count": null,
   "metadata": {
    "collapsed": false
   },
   "outputs": [],
   "source": []
  },
  {
   "cell_type": "markdown",
   "metadata": {},
   "source": [
    "### I. Exercise"
   ]
  },
  {
   "cell_type": "markdown",
   "metadata": {},
   "source": [
    "[A] Suppose that you are creating a software to track transactions. First this software will prompt for the number of unique items purchased following which it will prompt for the items purchased by the customers and finally return the list of items purchased. Once the list is recorded for one customer it will ask if you want to continue.\n",
    "\n",
    "    Enter the number of unique items purchased: 3\n",
    "    Enter item no. 1 apple\n",
    "    Enter item no. 2 juice\n",
    "    Enter item no. 3 butter\n",
    "\n",
    "    Transaction details:\n",
    "    ['apple', 'juice', 'butter']\n",
    "\n",
    "    Do you want to continue: yes\n",
    "    Enter the number of unique items purchased: 2\n",
    "    Enter item no. 1 bread\n",
    "    Enter item no. 2 jam\n",
    "\n",
    "    Transaction details:\n",
    "    ['bread', 'jam']\n",
    "\n",
    "    Do you want to continue: no"
   ]
  },
  {
   "cell_type": "code",
   "execution_count": null,
   "metadata": {
    "collapsed": false
   },
   "outputs": [],
   "source": []
  },
  {
   "cell_type": "code",
   "execution_count": null,
   "metadata": {
    "collapsed": false
   },
   "outputs": [],
   "source": []
  },
  {
   "cell_type": "markdown",
   "metadata": {},
   "source": [
    "[B] The previous solution (as it is evident) was a very crude solution. Someone in the billing counter has no idea about the number of unique products purchased by a customer. Therefore the program should be designed in such a way that will enable the person in the billing counter to start recording the items once a customer arrives at the billing desk and keep recording the items until it signals done. Once the person is done recording the items of one customer it will ask if he/she need to record one more transaction. If yes it continues...\n",
    "\n",
    "    Enter item no. 1 : apple\n",
    "    Enter item no. 2 : juice\n",
    "    Enter item no. 3 : butter\n",
    "    Enter item no. 4 : done\n",
    "    \n",
    "    Transaction for Customer 1\n",
    "    ['apple', 'juice', 'butter']\n",
    "    \n",
    "    \n",
    "    Next customer? (yes/no): yes\n",
    "    \n",
    "    Enter item no. 1 : bread\n",
    "    Enter item no. 2 : jam\n",
    "    Enter item no. 3 : done\n",
    "    \n",
    "    Transaction for Customer 1\n",
    "    ['bread', 'jam']\n",
    "    \n",
    "    \n",
    "    Next customer? (yes/no): no"
   ]
  },
  {
   "cell_type": "code",
   "execution_count": null,
   "metadata": {
    "collapsed": true
   },
   "outputs": [],
   "source": []
  },
  {
   "cell_type": "markdown",
   "metadata": {},
   "source": [
    "[C] Modify the above program such that for every item the software prompts  for the quantity purchases and its price. Finally for each customers, along with the list of items purchases it also gives the bill amount.\n",
    "\n",
    "    Item 1 : apple\n",
    "    Quantity for item 1: 0.5\n",
    "    Price for item 1: 109\n",
    "    Item 2 : juice\n",
    "    Quantity for item 2: 1\n",
    "    Price for item 2: 99\n",
    "    Item 3 : butter\n",
    "    Quantity for item 3: 2\n",
    "    Price for item 3: 45\n",
    "    Item 4 : done\n",
    "    \n",
    "    Transaction for Customer 1\n",
    "    ['apple', 'juice', 'butter']\n",
    "    Total:  243.5\n",
    "    \n",
    "    \n",
    "    Next customer? (yes/no): yes\n",
    "    \n",
    "    Item 1 : bread\n",
    "    Quantity for item 1: 1\n",
    "    Price for item 1: 31\n",
    "    Item 2 : Jam\n",
    "    Quantity for item 2: 1\n",
    "    Price for item 2: 89\n",
    "    Item 3 : done\n",
    "    \n",
    "    Transaction for Customer 1\n",
    "    ['bread', 'Jam']\n",
    "    Total:  120.0\n",
    "    \n",
    "    \n",
    "    Next customer? (yes/no): no"
   ]
  },
  {
   "cell_type": "code",
   "execution_count": null,
   "metadata": {
    "collapsed": true
   },
   "outputs": [],
   "source": []
  },
  {
   "cell_type": "markdown",
   "metadata": {},
   "source": [
    "[D] I am sure that almost all of you have searched coupon codes to get discounts from Food Panda or Swiggy. Have you noticed that once you have applied a code you cannot apply it again? But the website shows you all. Come on , let us write one such program.\n",
    "\n",
    "    Following are the available list of coupons for Food Panda\n",
    "    ['FP040', 'FP111', 'FPHBD05', 'FP9989', 'HappyMeal']\n",
    "\n",
    "\n",
    "    Type the one you want to apply: FP9989\n",
    "    Congratulation! You have successfully applied this coupon\n",
    "\n",
    "    would you like to use another coupon?yes\n",
    "    Following are the available list of coupons for Food Panda\n",
    "    ['FP040', 'FP111', 'FPHBD05', 'FP9989', 'HappyMeal']\n",
    "\n",
    "\n",
    "    Type the one you want to apply: FP9989\n",
    "    Sorry! You have already applied this coupon\n",
    "\n",
    "    would you like to use another coupon? no\n",
    "\n"
   ]
  },
  {
   "cell_type": "code",
   "execution_count": null,
   "metadata": {
    "collapsed": true
   },
   "outputs": [],
   "source": []
  },
  {
   "cell_type": "markdown",
   "metadata": {},
   "source": [
    "[E] In the files exercises, we had found out the list of email ids from the mbox file. Can we extract the list of unique email ids?\n",
    "\n",
    "    stephen.marquard@uct.ac.za\n",
    "    louis@media.berkeley.edu\n",
    "    zqian@umich.edu\n",
    "    rjlowe@iupui.edu\n",
    "    cwen@iupui.edu\n",
    "    gsilver@umich.edu\n",
    "    wagnermr@iupui.edu\n",
    "    antranig@caret.cam.ac.uk\n",
    "    gopal.ramasammycook@gmail.com\n",
    "    david.horwitz@uct.ac.za\n",
    "    ray@media.berkeley.edu\n",
    "\n",
    "    Total unique contacts = 11"
   ]
  },
  {
   "cell_type": "code",
   "execution_count": null,
   "metadata": {
    "collapsed": true
   },
   "outputs": [],
   "source": []
  }
 ],
 "metadata": {
  "kernelspec": {
   "display_name": "Python 3",
   "language": "python",
   "name": "python3"
  },
  "language_info": {
   "codemirror_mode": {
    "name": "ipython",
    "version": 3
   },
   "file_extension": ".py",
   "mimetype": "text/x-python",
   "name": "python",
   "nbconvert_exporter": "python",
   "pygments_lexer": "ipython3",
   "version": "3.6.0"
  }
 },
 "nbformat": 4,
 "nbformat_minor": 2
}
